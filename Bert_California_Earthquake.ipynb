{
  "cells": [
    {
      "cell_type": "code",
      "source": [
        "!pip install datasets"
      ],
      "metadata": {
        "colab": {
          "base_uri": "https://localhost:8080/"
        },
        "id": "2AKAnlBaRkUj",
        "outputId": "db7e22ec-02d1-4ccd-e860-b8e96b344f92"
      },
      "id": "2AKAnlBaRkUj",
      "execution_count": null,
      "outputs": [
        {
          "output_type": "stream",
          "name": "stdout",
          "text": [
            "Requirement already satisfied: datasets in /usr/local/lib/python3.10/dist-packages (2.19.0)\n",
            "Requirement already satisfied: filelock in /usr/local/lib/python3.10/dist-packages (from datasets) (3.13.4)\n",
            "Requirement already satisfied: numpy>=1.17 in /usr/local/lib/python3.10/dist-packages (from datasets) (1.25.2)\n",
            "Requirement already satisfied: pyarrow>=12.0.0 in /usr/local/lib/python3.10/dist-packages (from datasets) (14.0.2)\n",
            "Requirement already satisfied: pyarrow-hotfix in /usr/local/lib/python3.10/dist-packages (from datasets) (0.6)\n",
            "Requirement already satisfied: dill<0.3.9,>=0.3.0 in /usr/local/lib/python3.10/dist-packages (from datasets) (0.3.8)\n",
            "Requirement already satisfied: pandas in /usr/local/lib/python3.10/dist-packages (from datasets) (2.0.3)\n",
            "Requirement already satisfied: requests>=2.19.0 in /usr/local/lib/python3.10/dist-packages (from datasets) (2.31.0)\n",
            "Requirement already satisfied: tqdm>=4.62.1 in /usr/local/lib/python3.10/dist-packages (from datasets) (4.66.2)\n",
            "Requirement already satisfied: xxhash in /usr/local/lib/python3.10/dist-packages (from datasets) (3.4.1)\n",
            "Requirement already satisfied: multiprocess in /usr/local/lib/python3.10/dist-packages (from datasets) (0.70.16)\n",
            "Requirement already satisfied: fsspec[http]<=2024.3.1,>=2023.1.0 in /usr/local/lib/python3.10/dist-packages (from datasets) (2023.6.0)\n",
            "Requirement already satisfied: aiohttp in /usr/local/lib/python3.10/dist-packages (from datasets) (3.9.5)\n",
            "Requirement already satisfied: huggingface-hub>=0.21.2 in /usr/local/lib/python3.10/dist-packages (from datasets) (0.22.2)\n",
            "Requirement already satisfied: packaging in /usr/local/lib/python3.10/dist-packages (from datasets) (24.0)\n",
            "Requirement already satisfied: pyyaml>=5.1 in /usr/local/lib/python3.10/dist-packages (from datasets) (6.0.1)\n",
            "Requirement already satisfied: aiosignal>=1.1.2 in /usr/local/lib/python3.10/dist-packages (from aiohttp->datasets) (1.3.1)\n",
            "Requirement already satisfied: attrs>=17.3.0 in /usr/local/lib/python3.10/dist-packages (from aiohttp->datasets) (23.2.0)\n",
            "Requirement already satisfied: frozenlist>=1.1.1 in /usr/local/lib/python3.10/dist-packages (from aiohttp->datasets) (1.4.1)\n",
            "Requirement already satisfied: multidict<7.0,>=4.5 in /usr/local/lib/python3.10/dist-packages (from aiohttp->datasets) (6.0.5)\n",
            "Requirement already satisfied: yarl<2.0,>=1.0 in /usr/local/lib/python3.10/dist-packages (from aiohttp->datasets) (1.9.4)\n",
            "Requirement already satisfied: async-timeout<5.0,>=4.0 in /usr/local/lib/python3.10/dist-packages (from aiohttp->datasets) (4.0.3)\n",
            "Requirement already satisfied: typing-extensions>=3.7.4.3 in /usr/local/lib/python3.10/dist-packages (from huggingface-hub>=0.21.2->datasets) (4.11.0)\n",
            "Requirement already satisfied: charset-normalizer<4,>=2 in /usr/local/lib/python3.10/dist-packages (from requests>=2.19.0->datasets) (3.3.2)\n",
            "Requirement already satisfied: idna<4,>=2.5 in /usr/local/lib/python3.10/dist-packages (from requests>=2.19.0->datasets) (3.7)\n",
            "Requirement already satisfied: urllib3<3,>=1.21.1 in /usr/local/lib/python3.10/dist-packages (from requests>=2.19.0->datasets) (2.0.7)\n",
            "Requirement already satisfied: certifi>=2017.4.17 in /usr/local/lib/python3.10/dist-packages (from requests>=2.19.0->datasets) (2024.2.2)\n",
            "Requirement already satisfied: python-dateutil>=2.8.2 in /usr/local/lib/python3.10/dist-packages (from pandas->datasets) (2.8.2)\n",
            "Requirement already satisfied: pytz>=2020.1 in /usr/local/lib/python3.10/dist-packages (from pandas->datasets) (2023.4)\n",
            "Requirement already satisfied: tzdata>=2022.1 in /usr/local/lib/python3.10/dist-packages (from pandas->datasets) (2024.1)\n",
            "Requirement already satisfied: six>=1.5 in /usr/local/lib/python3.10/dist-packages (from python-dateutil>=2.8.2->pandas->datasets) (1.16.0)\n"
          ]
        }
      ]
    },
    {
      "cell_type": "code",
      "source": [
        "!pip install preprocessor"
      ],
      "metadata": {
        "colab": {
          "base_uri": "https://localhost:8080/"
        },
        "id": "8csBceYfR8TR",
        "outputId": "09fbe285-beb5-44a1-ce19-9ecf4a15fc1a"
      },
      "id": "8csBceYfR8TR",
      "execution_count": null,
      "outputs": [
        {
          "output_type": "stream",
          "name": "stdout",
          "text": [
            "Requirement already satisfied: preprocessor in /usr/local/lib/python3.10/dist-packages (1.1.3)\n"
          ]
        }
      ]
    },
    {
      "cell_type": "code",
      "source": [
        "!pip install transformers datasets evaluate\n",
        "!pip install tweet-preprocessor"
      ],
      "metadata": {
        "id": "IGZLqyRqSHlZ",
        "colab": {
          "base_uri": "https://localhost:8080/"
        },
        "outputId": "b4d6eb6f-e9b2-42a7-fdf5-c364e1adf8c2"
      },
      "id": "IGZLqyRqSHlZ",
      "execution_count": null,
      "outputs": [
        {
          "output_type": "stream",
          "name": "stdout",
          "text": [
            "Requirement already satisfied: transformers in /usr/local/lib/python3.10/dist-packages (4.40.0)\n",
            "Requirement already satisfied: datasets in /usr/local/lib/python3.10/dist-packages (2.19.0)\n",
            "Requirement already satisfied: evaluate in /usr/local/lib/python3.10/dist-packages (0.4.1)\n",
            "Requirement already satisfied: filelock in /usr/local/lib/python3.10/dist-packages (from transformers) (3.13.4)\n",
            "Requirement already satisfied: huggingface-hub<1.0,>=0.19.3 in /usr/local/lib/python3.10/dist-packages (from transformers) (0.22.2)\n",
            "Requirement already satisfied: numpy>=1.17 in /usr/local/lib/python3.10/dist-packages (from transformers) (1.25.2)\n",
            "Requirement already satisfied: packaging>=20.0 in /usr/local/lib/python3.10/dist-packages (from transformers) (24.0)\n",
            "Requirement already satisfied: pyyaml>=5.1 in /usr/local/lib/python3.10/dist-packages (from transformers) (6.0.1)\n",
            "Requirement already satisfied: regex!=2019.12.17 in /usr/local/lib/python3.10/dist-packages (from transformers) (2023.12.25)\n",
            "Requirement already satisfied: requests in /usr/local/lib/python3.10/dist-packages (from transformers) (2.31.0)\n",
            "Requirement already satisfied: tokenizers<0.20,>=0.19 in /usr/local/lib/python3.10/dist-packages (from transformers) (0.19.1)\n",
            "Requirement already satisfied: safetensors>=0.4.1 in /usr/local/lib/python3.10/dist-packages (from transformers) (0.4.3)\n",
            "Requirement already satisfied: tqdm>=4.27 in /usr/local/lib/python3.10/dist-packages (from transformers) (4.66.2)\n",
            "Requirement already satisfied: pyarrow>=12.0.0 in /usr/local/lib/python3.10/dist-packages (from datasets) (14.0.2)\n",
            "Requirement already satisfied: pyarrow-hotfix in /usr/local/lib/python3.10/dist-packages (from datasets) (0.6)\n",
            "Requirement already satisfied: dill<0.3.9,>=0.3.0 in /usr/local/lib/python3.10/dist-packages (from datasets) (0.3.8)\n",
            "Requirement already satisfied: pandas in /usr/local/lib/python3.10/dist-packages (from datasets) (2.0.3)\n",
            "Requirement already satisfied: xxhash in /usr/local/lib/python3.10/dist-packages (from datasets) (3.4.1)\n",
            "Requirement already satisfied: multiprocess in /usr/local/lib/python3.10/dist-packages (from datasets) (0.70.16)\n",
            "Requirement already satisfied: fsspec[http]<=2024.3.1,>=2023.1.0 in /usr/local/lib/python3.10/dist-packages (from datasets) (2023.6.0)\n",
            "Requirement already satisfied: aiohttp in /usr/local/lib/python3.10/dist-packages (from datasets) (3.9.5)\n",
            "Requirement already satisfied: responses<0.19 in /usr/local/lib/python3.10/dist-packages (from evaluate) (0.18.0)\n",
            "Requirement already satisfied: aiosignal>=1.1.2 in /usr/local/lib/python3.10/dist-packages (from aiohttp->datasets) (1.3.1)\n",
            "Requirement already satisfied: attrs>=17.3.0 in /usr/local/lib/python3.10/dist-packages (from aiohttp->datasets) (23.2.0)\n",
            "Requirement already satisfied: frozenlist>=1.1.1 in /usr/local/lib/python3.10/dist-packages (from aiohttp->datasets) (1.4.1)\n",
            "Requirement already satisfied: multidict<7.0,>=4.5 in /usr/local/lib/python3.10/dist-packages (from aiohttp->datasets) (6.0.5)\n",
            "Requirement already satisfied: yarl<2.0,>=1.0 in /usr/local/lib/python3.10/dist-packages (from aiohttp->datasets) (1.9.4)\n",
            "Requirement already satisfied: async-timeout<5.0,>=4.0 in /usr/local/lib/python3.10/dist-packages (from aiohttp->datasets) (4.0.3)\n",
            "Requirement already satisfied: typing-extensions>=3.7.4.3 in /usr/local/lib/python3.10/dist-packages (from huggingface-hub<1.0,>=0.19.3->transformers) (4.11.0)\n",
            "Requirement already satisfied: charset-normalizer<4,>=2 in /usr/local/lib/python3.10/dist-packages (from requests->transformers) (3.3.2)\n",
            "Requirement already satisfied: idna<4,>=2.5 in /usr/local/lib/python3.10/dist-packages (from requests->transformers) (3.7)\n",
            "Requirement already satisfied: urllib3<3,>=1.21.1 in /usr/local/lib/python3.10/dist-packages (from requests->transformers) (2.0.7)\n",
            "Requirement already satisfied: certifi>=2017.4.17 in /usr/local/lib/python3.10/dist-packages (from requests->transformers) (2024.2.2)\n",
            "Requirement already satisfied: python-dateutil>=2.8.2 in /usr/local/lib/python3.10/dist-packages (from pandas->datasets) (2.8.2)\n",
            "Requirement already satisfied: pytz>=2020.1 in /usr/local/lib/python3.10/dist-packages (from pandas->datasets) (2023.4)\n",
            "Requirement already satisfied: tzdata>=2022.1 in /usr/local/lib/python3.10/dist-packages (from pandas->datasets) (2024.1)\n",
            "Requirement already satisfied: six>=1.5 in /usr/local/lib/python3.10/dist-packages (from python-dateutil>=2.8.2->pandas->datasets) (1.16.0)\n",
            "Requirement already satisfied: tweet-preprocessor in /usr/local/lib/python3.10/dist-packages (0.6.0)\n"
          ]
        }
      ]
    },
    {
      "cell_type": "code",
      "source": [
        "from google.colab import drive\n",
        "drive.mount('/content/drive')"
      ],
      "metadata": {
        "colab": {
          "base_uri": "https://localhost:8080/"
        },
        "id": "2MVqKkIEbJNk",
        "outputId": "946a2617-88d8-462f-834c-882373047eb0"
      },
      "id": "2MVqKkIEbJNk",
      "execution_count": null,
      "outputs": [
        {
          "output_type": "stream",
          "name": "stdout",
          "text": [
            "Drive already mounted at /content/drive; to attempt to forcibly remount, call drive.mount(\"/content/drive\", force_remount=True).\n"
          ]
        }
      ]
    },
    {
      "cell_type": "code",
      "execution_count": null,
      "id": "e371e8ab",
      "metadata": {
        "id": "e371e8ab"
      },
      "outputs": [],
      "source": [
        "# import all necessary libraries\n",
        "\n",
        "import os\n",
        "from pathlib import Path\n",
        "\n",
        "import numpy as np\n",
        "import nltk\n",
        "import pandas as pd\n",
        "from datasets import Dataset, load_metric\n",
        "from datasets import Dataset, load_metric, load_dataset\n",
        "\n",
        "from datasets.load import load_dataset\n",
        "from transformers import AutoTokenizer\n",
        "import preprocessor as p\n",
        "from transformers import TrainingArguments, Trainer\n",
        "\n",
        "from sklearn.metrics import precision_recall_fscore_support\n",
        "import seaborn as sns\n",
        "import matplotlib.pyplot as plt"
      ]
    },
    {
      "cell_type": "code",
      "execution_count": null,
      "id": "52d3cbd5",
      "metadata": {
        "id": "52d3cbd5"
      },
      "outputs": [],
      "source": [
        "data_path = \"/content/drive/MyDrive/CrisisNLP_labeled_data_crowdflower/2014_California_Earthquake/2014_California_Earthquake_CF_labeled_data.tsv\""
      ]
    },
    {
      "cell_type": "code",
      "execution_count": null,
      "id": "1d289bac",
      "metadata": {
        "id": "1d289bac"
      },
      "outputs": [],
      "source": [
        "def fetch_data_from_csv(path):\n",
        "  df = pd.read_table(path)\n",
        "  df = pd.DataFrame(df)\n",
        "  return df"
      ]
    },
    {
      "cell_type": "code",
      "execution_count": null,
      "id": "33239fb7",
      "metadata": {
        "id": "33239fb7"
      },
      "outputs": [],
      "source": [
        "def convertDFtoDataSet(df):\n",
        "  ds = Dataset.from_pandas(df)\n",
        "  return ds"
      ]
    },
    {
      "cell_type": "code",
      "execution_count": null,
      "id": "d5abdd90",
      "metadata": {
        "id": "d5abdd90"
      },
      "outputs": [],
      "source": [
        "data = fetch_data_from_csv(data_path)"
      ]
    },
    {
      "cell_type": "code",
      "execution_count": null,
      "id": "9081fc6d",
      "metadata": {
        "id": "9081fc6d"
      },
      "outputs": [],
      "source": [
        "def reduceClasses(classVal):\n",
        "  if classVal == 'other_useful_information' or classVal == 'caution_and_advice' or classVal == 'sympathy_and_emotional_support' or classVal == 'not_related_or_irrelevant':\n",
        "    return 'not_related_or_irrelevant'\n",
        "  elif classVal == 'injured_or_dead_people' or classVal == 'missing_trapped_or_found_people' or classVal == 'infrastructure_and_utilities_damage':\n",
        "    return 'emergency_services_required'\n",
        "  else:\n",
        "    return 'donation_needs_or_offers_or_volunteering_services'\n"
      ]
    },
    {
      "cell_type": "code",
      "execution_count": null,
      "id": "c7af1c17",
      "metadata": {
        "id": "c7af1c17"
      },
      "outputs": [],
      "source": [
        "data['label'] = data['label'].apply(lambda lab: reduceClasses(lab))"
      ]
    },
    {
      "cell_type": "code",
      "execution_count": null,
      "id": "262142d9",
      "metadata": {
        "id": "262142d9"
      },
      "outputs": [],
      "source": [
        "def understandData(df):\n",
        "  print('--------------------------------Shape of the data is--------------------------')\n",
        "  print(data.shape)\n",
        "\n",
        "  print('----------------------the data contains following fields----------------------')\n",
        "  print(data.columns)\n",
        "\n",
        "  print('---------------------------------Data Description-----------------------------')\n",
        "  print(data.describe)\n",
        "\n",
        "  print('---------------------------------label count----------------------------------')\n",
        "  print(data['label'].value_counts())"
      ]
    },
    {
      "cell_type": "code",
      "execution_count": null,
      "id": "c5e5a911",
      "metadata": {
        "colab": {
          "base_uri": "https://localhost:8080/"
        },
        "id": "c5e5a911",
        "outputId": "9c263c40-8e19-4ea5-e09b-893890b4867c"
      },
      "outputs": [
        {
          "output_type": "stream",
          "name": "stdout",
          "text": [
            "--------------------------------Shape of the data is--------------------------\n",
            "(1701, 3)\n",
            "----------------------the data contains following fields----------------------\n",
            "Index(['tweet_id', 'tweet_text', 'label'], dtype='object')\n",
            "---------------------------------Data Description-----------------------------\n",
            "<bound method NDFrame.describe of                   tweet_id                                         tweet_text  \\\n",
            "0     '504075795435094016'  Bridges, overpasses earn approval after Northe...   \n",
            "1     '503765744333901824'  Say what you want, but the earthquake that hit...   \n",
            "2     '503741064067313665'  Cool data analysis of today's Napa earthquake ...   \n",
            "3     '503910039715725312'  California assessing damage after large quake ...   \n",
            "4     '503892224589848576'  RT @heyyouapp: California USA Rancho Cucamonga...   \n",
            "...                    ...                                                ...   \n",
            "1696  '505011845649166336'  RT @scullather: \"@infodude: amazing use of #Bi...   \n",
            "1697  '504093168413859842'  RT @heyyouapp: Wisconsin USA Madison http://t....   \n",
            "1698  '504297335518552065'  RT @YourAnonNews: Strong 6.1 Earthquake Rocks ...   \n",
            "1699  '503736436005146624'  RT @SFGate: We're updating this interactive ma...   \n",
            "1700  '504309180635676672'  RT @nicoleewayne: Tennessee USA Knoxville http...   \n",
            "\n",
            "                            label  \n",
            "0     emergency_services_required  \n",
            "1       not_related_or_irrelevant  \n",
            "2       not_related_or_irrelevant  \n",
            "3     emergency_services_required  \n",
            "4       not_related_or_irrelevant  \n",
            "...                           ...  \n",
            "1696    not_related_or_irrelevant  \n",
            "1697  emergency_services_required  \n",
            "1698  emergency_services_required  \n",
            "1699  emergency_services_required  \n",
            "1700    not_related_or_irrelevant  \n",
            "\n",
            "[1701 rows x 3 columns]>\n",
            "---------------------------------label count----------------------------------\n",
            "label\n",
            "not_related_or_irrelevant                            1126\n",
            "emergency_services_required                           494\n",
            "donation_needs_or_offers_or_volunteering_services      81\n",
            "Name: count, dtype: int64\n"
          ]
        }
      ],
      "source": [
        "understandData(data)"
      ]
    },
    {
      "cell_type": "code",
      "execution_count": null,
      "id": "9d94ff1f",
      "metadata": {
        "id": "9d94ff1f"
      },
      "outputs": [],
      "source": [
        "id2label = {0: 'not_related_or_irrelevant', 1: 'emergency_services_required', 2: 'donation_needs_or_offers_or_volunteering_services'}\n",
        "label2id = {'not_related_or_irrelevant': 0, 'emergency_services_required': 1, 'donation_needs_or_offers_or_volunteering_services': 2}"
      ]
    },
    {
      "cell_type": "code",
      "execution_count": null,
      "id": "c8a2b057",
      "metadata": {
        "id": "c8a2b057"
      },
      "outputs": [],
      "source": [
        "def exploratoryAnalysis(df):\n",
        "\n",
        "  plt.figure(figsize=(8,6))\n",
        "  sns.set_style(style='darkgrid')\n",
        "  ax = sns.countplot(x = 'label', data = df)\n",
        "  ax.set_xticklabels(ax.get_xticklabels(), rotation=40, ha=\"right\")\n",
        "  plt.tight_layout()\n",
        "  plt.title('Class Distribution')\n",
        "  plt.show()\n",
        "\n",
        "  plt.figure(figsize=(6,8))\n",
        "  sns.set_style(\"darkgrid\")\n",
        "  df['label'].value_counts().plot.pie(autopct='%0.2f%%')\n",
        "  plt.title(\"Percentage Contribution\")\n",
        "  plt.xlabel(\"percent contribution\")\n",
        "  plt.ylabel(\"label\")\n",
        "  plt.show()"
      ]
    },
    {
      "cell_type": "code",
      "execution_count": null,
      "id": "b7658520",
      "metadata": {
        "colab": {
          "base_uri": "https://localhost:8080/",
          "height": 1000
        },
        "id": "b7658520",
        "outputId": "b5515ca0-109a-4ab2-fee7-356501e3dc72"
      },
      "outputs": [
        {
          "output_type": "stream",
          "name": "stderr",
          "text": [
            "<ipython-input-15-3016a05a294f>:6: UserWarning: FixedFormatter should only be used together with FixedLocator\n",
            "  ax.set_xticklabels(ax.get_xticklabels(), rotation=40, ha=\"right\")\n"
          ]
        },
        {
          "output_type": "display_data",
          "data": {
            "text/plain": [
              "<Figure size 800x600 with 1 Axes>"
            ],
            "image/png": "[encoded data removed]"
          },
          "metadata": {}
        },
        {
          "output_type": "display_data",
          "data": {
            "text/plain": [
              "<Figure size 600x800 with 1 Axes>"
            ],
            "image/png": "[encoded data removed]"
          },
          "metadata": {}
        }
      ],
      "source": [
        "exploratoryAnalysis(data)"
      ]
    },
    {
      "cell_type": "code",
      "execution_count": null,
      "id": "d1d8b529",
      "metadata": {
        "colab": {
          "base_uri": "https://localhost:8080/"
        },
        "id": "d1d8b529",
        "outputId": "0a1d1e3f-a737-4a0e-ebbf-8732a73a3400"
      },
      "outputs": [
        {
          "output_type": "stream",
          "name": "stderr",
          "text": [
            "[nltk_data] Downloading package stopwords to /root/nltk_data...\n",
            "[nltk_data]   Package stopwords is already up-to-date!\n"
          ]
        }
      ],
      "source": [
        "import re\n",
        "import nltk\n",
        "nltk.download('stopwords')\n",
        "from nltk.corpus import stopwords\n",
        "from nltk.stem.porter import PorterStemmer\n",
        "ps=PorterStemmer()\n",
        "stopwords=set(stopwords.words('english'))"
      ]
    },
    {
      "cell_type": "code",
      "execution_count": null,
      "id": "996efbd9",
      "metadata": {
        "id": "996efbd9"
      },
      "outputs": [],
      "source": [
        "def cleaner(text):\n",
        "\n",
        "    cleaned = p.clean(text)\n",
        "    cleaned=cleaned.replace(\"//\",\" \").replace(\".\",\" \")\n",
        "    cleaned=re.sub(r'[^a-zA-Z]',\" \",cleaned)\n",
        "    cleaned=cleaned.strip() #removing whitespace\n",
        "    cleaned=cleaned.lower() #converting into lower case words\n",
        "    cleaned=re.sub(r'\\w+\\d+',\" \",cleaned)#remove alphanumeric words\n",
        "    cleaned=ps.stem(cleaned) #stemming\n",
        "    cleaned=[word for word in cleaned.split() if len(word)>2]\n",
        "    cleaned=\" \".join(cleaned)\n",
        "    return cleaned"
      ]
    },
    {
      "cell_type": "code",
      "execution_count": null,
      "id": "d5e9c91a",
      "metadata": {
        "id": "d5e9c91a"
      },
      "outputs": [],
      "source": [
        "#cleaning data\n",
        "data['tweet_text'] = data['tweet_text'].apply(lambda text:cleaner(text))"
      ]
    },
    {
      "cell_type": "code",
      "execution_count": null,
      "id": "62e3844d",
      "metadata": {
        "id": "62e3844d"
      },
      "outputs": [],
      "source": [
        "#converting label to id\n",
        "def labeltoId(label):\n",
        "  return label2id[label]\n",
        "\n",
        "data['label'] = data['label'].apply(lambda label: labeltoId(label))"
      ]
    },
    {
      "cell_type": "code",
      "execution_count": null,
      "id": "5b3fcbdb",
      "metadata": {
        "id": "5b3fcbdb"
      },
      "outputs": [],
      "source": [
        "dataset_data = convertDFtoDataSet(data)"
      ]
    },
    {
      "cell_type": "code",
      "execution_count": null,
      "id": "c7d30b27",
      "metadata": {
        "id": "c7d30b27",
        "colab": {
          "base_uri": "https://localhost:8080/"
        },
        "outputId": "e9263975-937f-4eb3-f0cb-aeda3c7a0503"
      },
      "outputs": [
        {
          "output_type": "stream",
          "name": "stderr",
          "text": [
            "/usr/local/lib/python3.10/dist-packages/huggingface_hub/utils/_token.py:89: UserWarning: \n",
            "The secret `HF_TOKEN` does not exist in your Colab secrets.\n",
            "To authenticate with the Hugging Face Hub, create a token in your settings tab (https://huggingface.co/settings/tokens), set it as secret in your Google Colab and restart your session.\n",
            "You will be able to reuse this secret in all of your notebooks.\n",
            "Please note that authentication is recommended but still optional to access public models or datasets.\n",
            "  warnings.warn(\n"
          ]
        }
      ],
      "source": [
        "from transformers import RobertaTokenizer, RobertaForSequenceClassification\n",
        "tokenizer = AutoTokenizer.from_pretrained(\"bert-base-cased\")\n",
        "#tokenizer = AutoTokenizer.from_pretrained(\"distilbert-base-cased\")\n",
        "#tokenizer = RobertaTokenizer.from_pretrained(\"roberta-base\")\n",
        "def tokenize_data(dataset_data):\n",
        "    return tokenizer(dataset_data[\"tweet_text\"], padding='max_length')"
      ]
    },
    {
      "cell_type": "code",
      "execution_count": null,
      "id": "c20f6e4b",
      "metadata": {
        "colab": {
          "referenced_widgets": [
            "59435aec25354c6e858a4cc498fd196d",
            "6864d58c93d54662976062f872a872b0",
            "0f45b680570547a39cafd22c382b78ba",
            "b9cf0410437b4213a48de7cb63e71358",
            "20b14054fa1442ada27a3f4da4f3785e",
            "d1cbfc78e25c4f1ebfc6be03fc719efa",
            "118ce6019a53492b9b2acb24239c1d6c",
            "aa73d5da25684da4a1131074781bb7b8",
            "5430e44f183f45f0b7ddd9794d1f997b",
            "0faa9381367e4b7e8f28fc653f4f6932",
            "c04d09f700024ca58bddc076bc22c294"
          ],
          "base_uri": "https://localhost:8080/",
          "height": 49
        },
        "id": "c20f6e4b",
        "outputId": "7bc7a4c0-46c8-438c-d43b-87b5d4ab3dd2"
      },
      "outputs": [
        {
          "output_type": "display_data",
          "data": {
            "text/plain": [
              "Map:   0%|          | 0/1701 [00:00<?, ? examples/s]"
            ],
            "application/vnd.jupyter.widget-view+json": {
              "version_major": 2,
              "version_minor": 0,
              "model_id": "59435aec25354c6e858a4cc498fd196d"
            }
          },
          "metadata": {}
        }
      ],
      "source": [
        "tokenized_data = dataset_data.map(tokenize_data, batched = True)"
      ]
    },
    {
      "cell_type": "code",
      "execution_count": null,
      "id": "5e3306cf",
      "metadata": {
        "id": "5e3306cf"
      },
      "outputs": [],
      "source": [
        "tokenized_data = tokenized_data.train_test_split(test_size=0.1)\n",
        "train_d = tokenized_data['train'].shuffle(seed=10)\n",
        "eval_d = tokenized_data['test'].shuffle(seed=10)"
      ]
    },
    {
      "cell_type": "code",
      "execution_count": null,
      "id": "240e1f5c",
      "metadata": {
        "id": "240e1f5c",
        "outputId": "a341e0b9-2c5f-4957-938d-35e68d4c8ee6",
        "colab": {
          "base_uri": "https://localhost:8080/"
        }
      },
      "outputs": [
        {
          "output_type": "stream",
          "name": "stderr",
          "text": [
            "<ipython-input-25-c203b637589b>:1: FutureWarning: load_metric is deprecated and will be removed in the next major version of datasets. Use 'evaluate.load' instead, from the new library 🤗 Evaluate: https://huggingface.co/docs/evaluate\n",
            "  metric = load_metric(\"accuracy\")\n",
            "/usr/local/lib/python3.10/dist-packages/datasets/load.py:759: FutureWarning: The repository for accuracy contains custom code which must be executed to correctly load the metric. You can inspect the repository content at https://raw.githubusercontent.com/huggingface/datasets/2.19.0/metrics/accuracy/accuracy.py\n",
            "You can avoid this message in future by passing the argument `trust_remote_code=True`.\n",
            "Passing `trust_remote_code=True` will be mandatory to load this metric from the next major release of `datasets`.\n",
            "  warnings.warn(\n"
          ]
        }
      ],
      "source": [
        "metric = load_metric(\"accuracy\")\n",
        "\n",
        "def compute_metrics(eval_pred):\n",
        "    logits, labels = eval_pred\n",
        "    predictions = np.argmax(logits, axis=-1)\n",
        "    return metric.compute(predictions=predictions, references=labels)\n"
      ]
    },
    {
      "cell_type": "code",
      "source": [
        "!pip install transformers[torch]"
      ],
      "metadata": {
        "colab": {
          "base_uri": "https://localhost:8080/"
        },
        "id": "ok7j82fed2qz",
        "outputId": "1ab6730e-1427-42cf-80e0-9d0c7abbc062"
      },
      "id": "ok7j82fed2qz",
      "execution_count": null,
      "outputs": [
        {
          "output_type": "stream",
          "name": "stdout",
          "text": [
            "Requirement already satisfied: transformers[torch] in /usr/local/lib/python3.10/dist-packages (4.40.0)\n",
            "Requirement already satisfied: filelock in /usr/local/lib/python3.10/dist-packages (from transformers[torch]) (3.13.4)\n",
            "Requirement already satisfied: huggingface-hub<1.0,>=0.19.3 in /usr/local/lib/python3.10/dist-packages (from transformers[torch]) (0.22.2)\n",
            "Requirement already satisfied: numpy>=1.17 in /usr/local/lib/python3.10/dist-packages (from transformers[torch]) (1.25.2)\n",
            "Requirement already satisfied: packaging>=20.0 in /usr/local/lib/python3.10/dist-packages (from transformers[torch]) (24.0)\n",
            "Requirement already satisfied: pyyaml>=5.1 in /usr/local/lib/python3.10/dist-packages (from transformers[torch]) (6.0.1)\n",
            "Requirement already satisfied: regex!=2019.12.17 in /usr/local/lib/python3.10/dist-packages (from transformers[torch]) (2023.12.25)\n",
            "Requirement already satisfied: requests in /usr/local/lib/python3.10/dist-packages (from transformers[torch]) (2.31.0)\n",
            "Requirement already satisfied: tokenizers<0.20,>=0.19 in /usr/local/lib/python3.10/dist-packages (from transformers[torch]) (0.19.1)\n",
            "Requirement already satisfied: safetensors>=0.4.1 in /usr/local/lib/python3.10/dist-packages (from transformers[torch]) (0.4.3)\n",
            "Requirement already satisfied: tqdm>=4.27 in /usr/local/lib/python3.10/dist-packages (from transformers[torch]) (4.66.2)\n",
            "Requirement already satisfied: torch in /usr/local/lib/python3.10/dist-packages (from transformers[torch]) (2.2.1+cu121)\n",
            "Requirement already satisfied: accelerate>=0.21.0 in /usr/local/lib/python3.10/dist-packages (from transformers[torch]) (0.29.3)\n",
            "Requirement already satisfied: psutil in /usr/local/lib/python3.10/dist-packages (from accelerate>=0.21.0->transformers[torch]) (5.9.5)\n",
            "Requirement already satisfied: fsspec>=2023.5.0 in /usr/local/lib/python3.10/dist-packages (from huggingface-hub<1.0,>=0.19.3->transformers[torch]) (2023.6.0)\n",
            "Requirement already satisfied: typing-extensions>=3.7.4.3 in /usr/local/lib/python3.10/dist-packages (from huggingface-hub<1.0,>=0.19.3->transformers[torch]) (4.11.0)\n",
            "Requirement already satisfied: sympy in /usr/local/lib/python3.10/dist-packages (from torch->transformers[torch]) (1.12)\n",
            "Requirement already satisfied: networkx in /usr/local/lib/python3.10/dist-packages (from torch->transformers[torch]) (3.3)\n",
            "Requirement already satisfied: jinja2 in /usr/local/lib/python3.10/dist-packages (from torch->transformers[torch]) (3.1.3)\n",
            "Requirement already satisfied: nvidia-cuda-nvrtc-cu12==12.1.105 in /usr/local/lib/python3.10/dist-packages (from torch->transformers[torch]) (12.1.105)\n",
            "Requirement already satisfied: nvidia-cuda-runtime-cu12==12.1.105 in /usr/local/lib/python3.10/dist-packages (from torch->transformers[torch]) (12.1.105)\n",
            "Requirement already satisfied: nvidia-cuda-cupti-cu12==12.1.105 in /usr/local/lib/python3.10/dist-packages (from torch->transformers[torch]) (12.1.105)\n",
            "Requirement already satisfied: nvidia-cudnn-cu12==8.9.2.26 in /usr/local/lib/python3.10/dist-packages (from torch->transformers[torch]) (8.9.2.26)\n",
            "Requirement already satisfied: nvidia-cublas-cu12==12.1.3.1 in /usr/local/lib/python3.10/dist-packages (from torch->transformers[torch]) (12.1.3.1)\n",
            "Requirement already satisfied: nvidia-cufft-cu12==11.0.2.54 in /usr/local/lib/python3.10/dist-packages (from torch->transformers[torch]) (11.0.2.54)\n",
            "Requirement already satisfied: nvidia-curand-cu12==10.3.2.106 in /usr/local/lib/python3.10/dist-packages (from torch->transformers[torch]) (10.3.2.106)\n",
            "Requirement already satisfied: nvidia-cusolver-cu12==11.4.5.107 in /usr/local/lib/python3.10/dist-packages (from torch->transformers[torch]) (11.4.5.107)\n",
            "Requirement already satisfied: nvidia-cusparse-cu12==12.1.0.106 in /usr/local/lib/python3.10/dist-packages (from torch->transformers[torch]) (12.1.0.106)\n",
            "Requirement already satisfied: nvidia-nccl-cu12==2.19.3 in /usr/local/lib/python3.10/dist-packages (from torch->transformers[torch]) (2.19.3)\n",
            "Requirement already satisfied: nvidia-nvtx-cu12==12.1.105 in /usr/local/lib/python3.10/dist-packages (from torch->transformers[torch]) (12.1.105)\n",
            "Requirement already satisfied: triton==2.2.0 in /usr/local/lib/python3.10/dist-packages (from torch->transformers[torch]) (2.2.0)\n",
            "Requirement already satisfied: nvidia-nvjitlink-cu12 in /usr/local/lib/python3.10/dist-packages (from nvidia-cusolver-cu12==11.4.5.107->torch->transformers[torch]) (12.4.127)\n",
            "Requirement already satisfied: charset-normalizer<4,>=2 in /usr/local/lib/python3.10/dist-packages (from requests->transformers[torch]) (3.3.2)\n",
            "Requirement already satisfied: idna<4,>=2.5 in /usr/local/lib/python3.10/dist-packages (from requests->transformers[torch]) (3.7)\n",
            "Requirement already satisfied: urllib3<3,>=1.21.1 in /usr/local/lib/python3.10/dist-packages (from requests->transformers[torch]) (2.0.7)\n",
            "Requirement already satisfied: certifi>=2017.4.17 in /usr/local/lib/python3.10/dist-packages (from requests->transformers[torch]) (2024.2.2)\n",
            "Requirement already satisfied: MarkupSafe>=2.0 in /usr/local/lib/python3.10/dist-packages (from jinja2->torch->transformers[torch]) (2.1.5)\n",
            "Requirement already satisfied: mpmath>=0.19 in /usr/local/lib/python3.10/dist-packages (from sympy->torch->transformers[torch]) (1.3.0)\n"
          ]
        }
      ]
    },
    {
      "cell_type": "code",
      "execution_count": null,
      "id": "70a718ae",
      "metadata": {
        "id": "70a718ae",
        "outputId": "03bec35d-47ec-4604-e3a6-fb1df69a3e9f",
        "colab": {
          "base_uri": "https://localhost:8080/"
        }
      },
      "outputs": [
        {
          "output_type": "stream",
          "name": "stderr",
          "text": [
            "Some weights of BertForSequenceClassification were not initialized from the model checkpoint at bert-base-cased and are newly initialized: ['classifier.bias', 'classifier.weight']\n",
            "You should probably TRAIN this model on a down-stream task to be able to use it for predictions and inference.\n"
          ]
        }
      ],
      "source": [
        "from transformers import AutoModelForSequenceClassification\n",
        "model = AutoModelForSequenceClassification.from_pretrained(\"bert-base-cased\", num_labels=3)\n",
        "\n",
        "\n",
        "training_args = TrainingArguments(\n",
        "    \"test_trainer\",\n",
        "    num_train_epochs=10,\n",
        "    learning_rate=0.001,\n",
        "    per_device_train_batch_size=16,\n",
        "    per_device_eval_batch_size=16,\n",
        "    #weight_decay=0.01\n",
        "    )\n",
        "trainer = Trainer(\n",
        "    model=model,\n",
        "    args=training_args,\n",
        "    train_dataset=train_d,\n",
        "    eval_dataset=eval_d,\n",
        "    compute_metrics=compute_metrics\n",
        ")"
      ]
    },
    {
      "cell_type": "code",
      "execution_count": null,
      "id": "da666998",
      "metadata": {
        "id": "da666998",
        "outputId": "2038f3a9-8996-4f61-c3e5-c8bdcf3997aa",
        "colab": {
          "base_uri": "https://localhost:8080/",
          "height": 231
        }
      },
      "outputs": [
        {
          "data": {
            "text/html": [
              "\n",
              "    <div>\n",
              "      \n",
              "      <progress value='842' max='960' style='width:300px; height:20px; vertical-align: middle;'></progress>\n",
              "      [842/960 21:13 < 02:58, 0.66 it/s, Epoch 8.76/10]\n",
              "    </div>\n",
              "    <table border=\"1\" class=\"dataframe\">\n",
              "  <thead>\n",
              " <tr style=\"text-align: left;\">\n",
              "      <th>Step</th>\n",
              "      <th>Training Loss</th>\n",
              "    </tr>\n",
              "  </thead>\n",
              "  <tbody>\n",
              "    <tr>\n",
              "      <td>500</td>\n",
              "      <td>0.816000</td>\n",
              "    </tr>\n",
              "  </tbody>\n",
              "</table><p>"
            ],
            "text/plain": [
              "<IPython.core.display.HTML object>"
            ]
          },
          "metadata": {},
          "output_type": "display_data"
        },
        {
          "output_type": "display_data",
          "data": {
            "text/plain": [
              "<IPython.core.display.HTML object>"
            ],
            "text/html": [
              "\n",
              "    <div>\n",
              "      \n",
              "      <progress value='960' max='960' style='width:300px; height:20px; vertical-align: middle;'></progress>\n",
              "      [960/960 24:11, Epoch 10/10]\n",
              "    </div>\n",
              "    <table border=\"1\" class=\"dataframe\">\n",
              "  <thead>\n",
              " <tr style=\"text-align: left;\">\n",
              "      <th>Step</th>\n",
              "      <th>Training Loss</th>\n",
              "    </tr>\n",
              "  </thead>\n",
              "  <tbody>\n",
              "    <tr>\n",
              "      <td>500</td>\n",
              "      <td>0.816000</td>\n",
              "    </tr>\n",
              "  </tbody>\n",
              "</table><p>"
            ]
          },
          "metadata": {}
        },
        {
          "output_type": "execute_result",
          "data": {
            "text/plain": [
              "TrainOutput(global_step=960, training_loss=0.8019732475280762, metrics={'train_runtime': 1453.4063, 'train_samples_per_second': 10.527, 'train_steps_per_second': 0.661, 'total_flos': 4025635291238400.0, 'train_loss': 0.8019732475280762, 'epoch': 10.0})"
            ]
          },
          "metadata": {},
          "execution_count": 38
        }
      ],
      "source": [
        "# Train the model\n",
        "trainer.train()"
      ]
    },
    {
      "cell_type": "code",
      "source": [
        "# Get the training logs\n",
        "train_logs = trainer.state.log_history"
      ],
      "metadata": {
        "id": "fQgWuGDCPIZj"
      },
      "id": "fQgWuGDCPIZj",
      "execution_count": null,
      "outputs": []
    },
    {
      "cell_type": "code",
      "source": [
        "for i, log in enumerate(train_logs):\n",
        "    print(f\"Epoch {i+1}/{len(train_logs)}\")\n",
        "    if 'loss' in log and 'accuracy' in log:\n",
        "        print(f\"  - loss: {log['loss']:.4f} - accuracy: {log['accuracy']:.4f}\")\n",
        "    if 'eval_loss' in log and 'eval_accuracy' in log:\n",
        "        print(f\"  - val_loss: {log['eval_loss']:.4f} - val_accuracy: {log['eval_accuracy']:.4f}\")"
      ],
      "metadata": {
        "colab": {
          "base_uri": "https://localhost:8080/"
        },
        "id": "EaQqiQ2kPGP6",
        "outputId": "4e82325e-a872-4bf7-fb63-fa373221309b"
      },
      "id": "EaQqiQ2kPGP6",
      "execution_count": null,
      "outputs": [
        {
          "output_type": "stream",
          "name": "stdout",
          "text": [
            "Epoch 1/2\n",
            "Epoch 2/2\n"
          ]
        }
      ]
    },
    {
      "cell_type": "code",
      "execution_count": null,
      "id": "5779c654",
      "metadata": {
        "id": "5779c654",
        "colab": {
          "base_uri": "https://localhost:8080/",
          "height": 37
        },
        "outputId": "19f41c23-daf3-410b-acb7-10844309f8ee"
      },
      "outputs": [
        {
          "output_type": "display_data",
          "data": {
            "text/plain": [
              "<IPython.core.display.HTML object>"
            ],
            "text/html": [
              "\n",
              "    <div>\n",
              "      \n",
              "      <progress value='11' max='11' style='width:300px; height:20px; vertical-align: middle;'></progress>\n",
              "      [11/11 00:05]\n",
              "    </div>\n",
              "    "
            ]
          },
          "metadata": {}
        }
      ],
      "source": [
        "# Evaluate the model\n",
        "eval_results = trainer.evaluate()"
      ]
    },
    {
      "cell_type": "code",
      "source": [
        "# Print the evaluation metrics\n",
        "print(\"Evaluation results:\")\n",
        "print(f\"  - loss: {eval_results['eval_loss']:.4f} - accuracy: {eval_results['eval_accuracy']:.4f}\")"
      ],
      "metadata": {
        "colab": {
          "base_uri": "https://localhost:8080/"
        },
        "id": "A-cZXuoyQVRO",
        "outputId": "0512289e-76e5-4a52-eb77-fb406ec2227d"
      },
      "id": "A-cZXuoyQVRO",
      "execution_count": null,
      "outputs": [
        {
          "output_type": "stream",
          "name": "stdout",
          "text": [
            "Evaluation results:\n",
            "  - loss: 0.8794 - accuracy: 0.6023\n"
          ]
        }
      ]
    },
    {
      "cell_type": "code",
      "source": [
        "# Save the trained model\n",
        "model_path = \"./saved_model\"\n",
        "trainer.save_model(model_path)"
      ],
      "metadata": {
        "id": "CNGw7K84v-zj"
      },
      "id": "CNGw7K84v-zj",
      "execution_count": null,
      "outputs": []
    },
    {
      "cell_type": "code",
      "execution_count": null,
      "id": "53c216a2",
      "metadata": {
        "id": "53c216a2",
        "colab": {
          "base_uri": "https://localhost:8080/",
          "height": 1000
        },
        "outputId": "76d8cde2-7d3d-4753-c7c1-b8a47c9c918b"
      },
      "outputs": [
        {
          "output_type": "display_data",
          "data": {
            "text/plain": [
              "<IPython.core.display.HTML object>"
            ],
            "text/html": []
          },
          "metadata": {}
        },
        {
          "output_type": "stream",
          "name": "stdout",
          "text": [
            "[[ 1.2199411  0.4460089 -1.5113864]\n",
            " [ 1.2199411  0.4460089 -1.5113864]\n",
            " [ 1.2199411  0.4460089 -1.5113864]\n",
            " [ 1.2199411  0.4460089 -1.5113864]\n",
            " [ 1.2199411  0.4460089 -1.5113864]\n",
            " [ 1.2199411  0.4460089 -1.5113864]\n",
            " [ 1.2199411  0.4460089 -1.5113864]\n",
            " [ 1.2199411  0.4460089 -1.5113864]\n",
            " [ 1.2199411  0.4460089 -1.5113864]\n",
            " [ 1.2199411  0.4460089 -1.5113864]\n",
            " [ 1.2199411  0.4460089 -1.5113864]\n",
            " [ 1.2199411  0.4460089 -1.5113864]\n",
            " [ 1.2199411  0.4460089 -1.5113864]\n",
            " [ 1.2199411  0.4460089 -1.5113864]\n",
            " [ 1.2199411  0.4460089 -1.5113864]\n",
            " [ 1.2199411  0.4460089 -1.5113864]\n",
            " [ 1.2199411  0.4460089 -1.5113864]\n",
            " [ 1.2199411  0.4460089 -1.5113864]\n",
            " [ 1.2199411  0.4460089 -1.5113864]\n",
            " [ 1.2199411  0.4460089 -1.5113864]\n",
            " [ 1.2199411  0.4460089 -1.5113864]\n",
            " [ 1.2199411  0.4460089 -1.5113864]\n",
            " [ 1.2199411  0.4460089 -1.5113864]\n",
            " [ 1.2199411  0.4460089 -1.5113864]\n",
            " [ 1.2199411  0.4460089 -1.5113864]\n",
            " [ 1.2199411  0.4460089 -1.5113864]\n",
            " [ 1.2199411  0.4460089 -1.5113864]\n",
            " [ 1.2199411  0.4460089 -1.5113864]\n",
            " [ 1.2199411  0.4460089 -1.5113864]\n",
            " [ 1.2199411  0.4460089 -1.5113864]\n",
            " [ 1.2199411  0.4460089 -1.5113864]\n",
            " [ 1.2199411  0.4460089 -1.5113864]\n",
            " [ 1.2199411  0.4460089 -1.5113864]\n",
            " [ 1.2199411  0.4460089 -1.5113864]\n",
            " [ 1.2199411  0.4460089 -1.5113864]\n",
            " [ 1.2199411  0.4460089 -1.5113864]\n",
            " [ 1.2199411  0.4460089 -1.5113864]\n",
            " [ 1.2199411  0.4460089 -1.5113864]\n",
            " [ 1.2199411  0.4460089 -1.5113864]\n",
            " [ 1.2199411  0.4460089 -1.5113864]\n",
            " [ 1.2199411  0.4460089 -1.5113864]\n",
            " [ 1.2199411  0.4460089 -1.5113864]\n",
            " [ 1.2199411  0.4460089 -1.5113864]\n",
            " [ 1.2199411  0.4460089 -1.5113864]\n",
            " [ 1.2199411  0.4460089 -1.5113864]\n",
            " [ 1.2199411  0.4460089 -1.5113864]\n",
            " [ 1.2199411  0.4460089 -1.5113864]\n",
            " [ 1.2199411  0.4460089 -1.5113864]\n",
            " [ 1.2199411  0.4460089 -1.5113864]\n",
            " [ 1.2199411  0.4460089 -1.5113864]\n",
            " [ 1.2199411  0.4460089 -1.5113864]\n",
            " [ 1.2199411  0.4460089 -1.5113864]\n",
            " [ 1.2199411  0.4460089 -1.5113864]\n",
            " [ 1.2199411  0.4460089 -1.5113864]\n",
            " [ 1.2199411  0.4460089 -1.5113864]\n",
            " [ 1.2199411  0.4460089 -1.5113864]\n",
            " [ 1.2199411  0.4460089 -1.5113864]\n",
            " [ 1.2199411  0.4460089 -1.5113864]\n",
            " [ 1.2199411  0.4460089 -1.5113864]\n",
            " [ 1.2199411  0.4460089 -1.5113864]\n",
            " [ 1.2199411  0.4460089 -1.5113864]\n",
            " [ 1.2199411  0.4460089 -1.5113864]\n",
            " [ 1.2199411  0.4460089 -1.5113864]\n",
            " [ 1.2199411  0.4460089 -1.5113864]\n",
            " [ 1.2199411  0.4460089 -1.5113864]\n",
            " [ 1.2199411  0.4460089 -1.5113864]\n",
            " [ 1.2199411  0.4460089 -1.5113864]\n",
            " [ 1.2199411  0.4460089 -1.5113864]\n",
            " [ 1.2199411  0.4460089 -1.5113864]\n",
            " [ 1.2199411  0.4460089 -1.5113864]\n",
            " [ 1.2199411  0.4460089 -1.5113864]\n",
            " [ 1.2199411  0.4460089 -1.5113864]\n",
            " [ 1.2199411  0.4460089 -1.5113864]\n",
            " [ 1.2199411  0.4460089 -1.5113864]\n",
            " [ 1.2199411  0.4460089 -1.5113864]\n",
            " [ 1.2199411  0.4460089 -1.5113864]\n",
            " [ 1.2199411  0.4460089 -1.5113864]\n",
            " [ 1.2199411  0.4460089 -1.5113864]\n",
            " [ 1.2199411  0.4460089 -1.5113864]\n",
            " [ 1.2199411  0.4460089 -1.5113864]\n",
            " [ 1.2199411  0.4460089 -1.5113864]\n",
            " [ 1.2199411  0.4460089 -1.5113864]\n",
            " [ 1.2199411  0.4460089 -1.5113864]\n",
            " [ 1.2199411  0.4460089 -1.5113864]\n",
            " [ 1.2199411  0.4460089 -1.5113864]\n",
            " [ 1.2199411  0.4460089 -1.5113864]\n",
            " [ 1.2199411  0.4460089 -1.5113864]\n",
            " [ 1.2199411  0.4460089 -1.5113864]\n",
            " [ 1.2199411  0.4460089 -1.5113864]\n",
            " [ 1.2199411  0.4460089 -1.5113864]\n",
            " [ 1.2199411  0.4460089 -1.5113864]\n",
            " [ 1.2199411  0.4460089 -1.5113864]\n",
            " [ 1.2199411  0.4460089 -1.5113864]\n",
            " [ 1.2199411  0.4460089 -1.5113864]\n",
            " [ 1.2199411  0.4460089 -1.5113864]\n",
            " [ 1.2199411  0.4460089 -1.5113864]\n",
            " [ 1.2199411  0.4460089 -1.5113864]\n",
            " [ 1.2199411  0.4460089 -1.5113864]\n",
            " [ 1.2199411  0.4460089 -1.5113864]\n",
            " [ 1.2199411  0.4460089 -1.5113864]\n",
            " [ 1.2199411  0.4460089 -1.5113864]\n",
            " [ 1.2199411  0.4460089 -1.5113864]\n",
            " [ 1.2199411  0.4460089 -1.5113864]\n",
            " [ 1.2199411  0.4460089 -1.5113864]\n",
            " [ 1.2199411  0.4460089 -1.5113864]\n",
            " [ 1.2199411  0.4460089 -1.5113864]\n",
            " [ 1.2199411  0.4460089 -1.5113864]\n",
            " [ 1.2199411  0.4460089 -1.5113864]\n",
            " [ 1.2199411  0.4460089 -1.5113864]\n",
            " [ 1.2199411  0.4460089 -1.5113864]\n",
            " [ 1.2199411  0.4460089 -1.5113864]\n",
            " [ 1.2199411  0.4460089 -1.5113864]\n",
            " [ 1.2199411  0.4460089 -1.5113864]\n",
            " [ 1.2199411  0.4460089 -1.5113864]\n",
            " [ 1.2199411  0.4460089 -1.5113864]\n",
            " [ 1.2199411  0.4460089 -1.5113864]\n",
            " [ 1.2199411  0.4460089 -1.5113864]\n",
            " [ 1.2199411  0.4460089 -1.5113864]\n",
            " [ 1.2199411  0.4460089 -1.5113864]\n",
            " [ 1.2199411  0.4460089 -1.5113864]\n",
            " [ 1.2199411  0.4460089 -1.5113864]\n",
            " [ 1.2199411  0.4460089 -1.5113864]\n",
            " [ 1.2199411  0.4460089 -1.5113864]\n",
            " [ 1.2199411  0.4460089 -1.5113864]\n",
            " [ 1.2199411  0.4460089 -1.5113864]\n",
            " [ 1.2199411  0.4460089 -1.5113864]\n",
            " [ 1.2199411  0.4460089 -1.5113864]\n",
            " [ 1.2199411  0.4460089 -1.5113864]\n",
            " [ 1.2199411  0.4460089 -1.5113864]\n",
            " [ 1.2199411  0.4460089 -1.5113864]\n",
            " [ 1.2199411  0.4460089 -1.5113864]\n",
            " [ 1.2199411  0.4460089 -1.5113864]\n",
            " [ 1.2199411  0.4460089 -1.5113864]\n",
            " [ 1.2199411  0.4460089 -1.5113864]\n",
            " [ 1.2199411  0.4460089 -1.5113864]\n",
            " [ 1.2199411  0.4460089 -1.5113864]\n",
            " [ 1.2199411  0.4460089 -1.5113864]\n",
            " [ 1.2199411  0.4460089 -1.5113864]\n",
            " [ 1.2199411  0.4460089 -1.5113864]\n",
            " [ 1.2199411  0.4460089 -1.5113864]\n",
            " [ 1.2199411  0.4460089 -1.5113864]\n",
            " [ 1.2199411  0.4460089 -1.5113864]\n",
            " [ 1.2199411  0.4460089 -1.5113864]\n",
            " [ 1.2199411  0.4460089 -1.5113864]\n",
            " [ 1.2199411  0.4460089 -1.5113864]\n",
            " [ 1.2199411  0.4460089 -1.5113864]\n",
            " [ 1.2199411  0.4460089 -1.5113864]\n",
            " [ 1.2199411  0.4460089 -1.5113864]\n",
            " [ 1.2199411  0.4460089 -1.5113864]\n",
            " [ 1.2199411  0.4460089 -1.5113864]\n",
            " [ 1.2199411  0.4460089 -1.5113864]\n",
            " [ 1.2199411  0.4460089 -1.5113864]\n",
            " [ 1.2199411  0.4460089 -1.5113864]\n",
            " [ 1.2199411  0.4460089 -1.5113864]\n",
            " [ 1.2199411  0.4460089 -1.5113864]\n",
            " [ 1.2199411  0.4460089 -1.5113864]\n",
            " [ 1.2199411  0.4460089 -1.5113864]\n",
            " [ 1.2199411  0.4460089 -1.5113864]\n",
            " [ 1.2199411  0.4460089 -1.5113864]\n",
            " [ 1.2199411  0.4460089 -1.5113864]\n",
            " [ 1.2199411  0.4460089 -1.5113864]\n",
            " [ 1.2199411  0.4460089 -1.5113864]\n",
            " [ 1.2199411  0.4460089 -1.5113864]\n",
            " [ 1.2199411  0.4460089 -1.5113864]\n",
            " [ 1.2199411  0.4460089 -1.5113864]\n",
            " [ 1.2199411  0.4460089 -1.5113864]\n",
            " [ 1.2199411  0.4460089 -1.5113864]\n",
            " [ 1.2199411  0.4460089 -1.5113864]\n",
            " [ 1.2199411  0.4460089 -1.5113864]\n",
            " [ 1.2199411  0.4460089 -1.5113864]\n",
            " [ 1.2199411  0.4460089 -1.5113864]]\n",
            "[0 0 0 0 0 0 0 0 0 0 0 0 0 0 0 0 0 0 0 0 0 0 0 0 0 0 0 0 0 0 0 0 0 0 0 0 0\n",
            " 0 0 0 0 0 0 0 0 0 0 0 0 0 0 0 0 0 0 0 0 0 0 0 0 0 0 0 0 0 0 0 0 0 0 0 0 0\n",
            " 0 0 0 0 0 0 0 0 0 0 0 0 0 0 0 0 0 0 0 0 0 0 0 0 0 0 0 0 0 0 0 0 0 0 0 0 0\n",
            " 0 0 0 0 0 0 0 0 0 0 0 0 0 0 0 0 0 0 0 0 0 0 0 0 0 0 0 0 0 0 0 0 0 0 0 0 0\n",
            " 0 0 0 0 0 0 0 0 0 0 0 0 0 0 0 0 0 0 0 0 0 0 0]\n"
          ]
        }
      ],
      "source": [
        "# Get predictions on the test dataset\n",
        "test_predictions = trainer.predict(eval_d)\n",
        "test_logits = test_predictions.predictions\n",
        "test_labels = eval_d[\"label\"]\n",
        "# Compute predicted class indices\n",
        "print(test_logits)\n",
        "predicted_class_indices = np.argmax(test_logits, axis=-1)\n",
        "print(predicted_class_indices)"
      ]
    },
    {
      "cell_type": "code",
      "execution_count": null,
      "id": "a9bbcd3f",
      "metadata": {
        "id": "a9bbcd3f"
      },
      "outputs": [],
      "source": [
        "from sklearn.metrics import confusion_matrix\n",
        "import matplotlib.pyplot as plt\n",
        "# Compute confusion matrix\n",
        "confusion_mat = confusion_matrix(test_labels, predicted_class_indices)"
      ]
    },
    {
      "cell_type": "code",
      "execution_count": null,
      "id": "a53ea49e",
      "metadata": {
        "id": "a53ea49e",
        "colab": {
          "base_uri": "https://localhost:8080/",
          "height": 885
        },
        "outputId": "1a06fe1e-1f4a-4fe4-a51b-5778130b9b22"
      },
      "outputs": [
        {
          "output_type": "display_data",
          "data": {
            "text/plain": [
              "<Figure size 800x800 with 2 Axes>"
            ],
            "image/png": "[encoded data removed]"
          },
          "metadata": {}
        }
      ],
      "source": [
        "# Visualize confusion matrix with numbers\n",
        "class_names = ['not_related_or_irrelevant', 'emergency_services_required', 'donation_needs_or_offers_or_volunteering_services']\n",
        "\n",
        "\n",
        "plt.figure(figsize=(8, 8))\n",
        "plt.imshow(confusion_mat, interpolation='nearest', cmap=plt.cm.Blues)\n",
        "\n",
        "# Add numbers to the confusion matrix\n",
        "for i in range(confusion_mat.shape[0]):\n",
        "    for j in range(confusion_mat.shape[1]):\n",
        "        plt.text(j, i, str(confusion_mat[i, j]), horizontalalignment=\"center\", color=\"white\" if i == j else \"black\")\n",
        "\n",
        "plt.colorbar()\n",
        "tick_marks = np.arange(len(class_names))\n",
        "plt.xticks(tick_marks, class_names, rotation=45)\n",
        "plt.yticks(tick_marks, class_names)\n",
        "plt.xlabel('Predicted Class')\n",
        "plt.ylabel('True Class')\n",
        "plt.title('Confusion Matrix')\n",
        "plt.show()"
      ]
    },
    {
      "cell_type": "code",
      "execution_count": null,
      "id": "b8a8febf",
      "metadata": {
        "id": "b8a8febf",
        "colab": {
          "base_uri": "https://localhost:8080/"
        },
        "outputId": "edadc9e9-2237-4a88-b486-dd520b2efac9"
      },
      "outputs": [
        {
          "output_type": "stream",
          "name": "stdout",
          "text": [
            "Class 0:\n",
            "Precision: 0.6023391812865497\n",
            "Recall: 1.0\n",
            "F1 Score: 0.7518248175182481\n",
            "Class 1:\n",
            "Precision: 0.0\n",
            "Recall: 0.0\n",
            "F1 Score: 0.0\n",
            "Class 2:\n",
            "Precision: 0.0\n",
            "Recall: 0.0\n",
            "F1 Score: 0.0\n"
          ]
        },
        {
          "output_type": "stream",
          "name": "stderr",
          "text": [
            "/usr/local/lib/python3.10/dist-packages/sklearn/metrics/_classification.py:1344: UndefinedMetricWarning: Precision and F-score are ill-defined and being set to 0.0 in labels with no predicted samples. Use `zero_division` parameter to control this behavior.\n",
            "  _warn_prf(average, modifier, msg_start, len(result))\n"
          ]
        }
      ],
      "source": [
        "precision, recall, f1, support = precision_recall_fscore_support(test_labels, predicted_class_indices)\n",
        "\n",
        "# Print the results\n",
        "for i in range(len(class_names)):\n",
        "    print(f\"Class {i}:\")\n",
        "    print(f\"Precision: {precision[i]}\")\n",
        "    print(f\"Recall: {recall[i]}\")\n",
        "    print(f\"F1 Score: {f1[i]}\")"
      ]
    },
    {
      "cell_type": "code",
      "execution_count": null,
      "id": "a4925e10",
      "metadata": {
        "id": "a4925e10",
        "colab": {
          "base_uri": "https://localhost:8080/"
        },
        "outputId": "bd1970e1-e2da-4c1d-f1f5-853947aecf52"
      },
      "outputs": [
        {
          "output_type": "stream",
          "name": "stdout",
          "text": [
            "0.6023391812865497\n"
          ]
        }
      ],
      "source": [
        "correct_predictions = np.sum(np.diag(confusion_mat))\n",
        "total_predictions = np.sum(confusion_mat)\n",
        "accuracy = correct_predictions / total_predictions\n",
        "print(accuracy)"
      ]
    }
  ],
  "metadata": {
    "kernelspec": {
      "display_name": "Python 3",
      "name": "python3"
    },
    "language_info": {
      "codemirror_mode": {
        "name": "ipython",
        "version": 3
      },
      "file_extension": ".py",
      "mimetype": "text/x-python",
      "name": "python",
      "nbconvert_exporter": "python",
      "pygments_lexer": "ipython3",
      "version": "3.11.5"
    },
    "colab": {
      "provenance": [],
      "gpuType": "T4"
    },
    "accelerator": "GPU",
    "widgets": {
      "application/vnd.jupyter.widget-state+json": {
        "59435aec25354c6e858a4cc498fd196d": {
          "model_module": "@jupyter-widgets/controls",
          "model_name": "HBoxModel",
          "model_module_version": "1.5.0",
          "state": {
            "_dom_classes": [],
            "_model_module": "@jupyter-widgets/controls",
            "_model_module_version": "1.5.0",
            "_model_name": "HBoxModel",
            "_view_count": null,
            "_view_module": "@jupyter-widgets/controls",
            "_view_module_version": "1.5.0",
            "_view_name": "HBoxView",
            "box_style": "",
            "children": [
              "IPY_MODEL_6864d58c93d54662976062f872a872b0",
              "IPY_MODEL_0f45b680570547a39cafd22c382b78ba",
              "IPY_MODEL_b9cf0410437b4213a48de7cb63e71358"
            ],
            "layout": "IPY_MODEL_20b14054fa1442ada27a3f4da4f3785e"
          }
        },
        "6864d58c93d54662976062f872a872b0": {
          "model_module": "@jupyter-widgets/controls",
          "model_name": "HTMLModel",
          "model_module_version": "1.5.0",
          "state": {
            "_dom_classes": [],
            "_model_module": "@jupyter-widgets/controls",
            "_model_module_version": "1.5.0",
            "_model_name": "HTMLModel",
            "_view_count": null,
            "_view_module": "@jupyter-widgets/controls",
            "_view_module_version": "1.5.0",
            "_view_name": "HTMLView",
            "description": "",
            "description_tooltip": null,
            "layout": "IPY_MODEL_d1cbfc78e25c4f1ebfc6be03fc719efa",
            "placeholder": "​",
            "style": "IPY_MODEL_118ce6019a53492b9b2acb24239c1d6c",
            "value": "Map: 100%"
          }
        },
        "0f45b680570547a39cafd22c382b78ba": {
          "model_module": "@jupyter-widgets/controls",
          "model_name": "FloatProgressModel",
          "model_module_version": "1.5.0",
          "state": {
            "_dom_classes": [],
            "_model_module": "@jupyter-widgets/controls",
            "_model_module_version": "1.5.0",
            "_model_name": "FloatProgressModel",
            "_view_count": null,
            "_view_module": "@jupyter-widgets/controls",
            "_view_module_version": "1.5.0",
            "_view_name": "ProgressView",
            "bar_style": "success",
            "description": "",
            "description_tooltip": null,
            "layout": "IPY_MODEL_aa73d5da25684da4a1131074781bb7b8",
            "max": 1701,
            "min": 0,
            "orientation": "horizontal",
            "style": "IPY_MODEL_5430e44f183f45f0b7ddd9794d1f997b",
            "value": 1701
          }
        },
        "b9cf0410437b4213a48de7cb63e71358": {
          "model_module": "@jupyter-widgets/controls",
          "model_name": "HTMLModel",
          "model_module_version": "1.5.0",
          "state": {
            "_dom_classes": [],
            "_model_module": "@jupyter-widgets/controls",
            "_model_module_version": "1.5.0",
            "_model_name": "HTMLModel",
            "_view_count": null,
            "_view_module": "@jupyter-widgets/controls",
            "_view_module_version": "1.5.0",
            "_view_name": "HTMLView",
            "description": "",
            "description_tooltip": null,
            "layout": "IPY_MODEL_0faa9381367e4b7e8f28fc653f4f6932",
            "placeholder": "​",
            "style": "IPY_MODEL_c04d09f700024ca58bddc076bc22c294",
            "value": " 1701/1701 [00:01&lt;00:00, 1558.03 examples/s]"
          }
        },
        "20b14054fa1442ada27a3f4da4f3785e": {
          "model_module": "@jupyter-widgets/base",
          "model_name": "LayoutModel",
          "model_module_version": "1.2.0",
          "state": {
            "_model_module": "@jupyter-widgets/base",
            "_model_module_version": "1.2.0",
            "_model_name": "LayoutModel",
            "_view_count": null,
            "_view_module": "@jupyter-widgets/base",
            "_view_module_version": "1.2.0",
            "_view_name": "LayoutView",
            "align_content": null,
            "align_items": null,
            "align_self": null,
            "border": null,
            "bottom": null,
            "display": null,
            "flex": null,
            "flex_flow": null,
            "grid_area": null,
            "grid_auto_columns": null,
            "grid_auto_flow": null,
            "grid_auto_rows": null,
            "grid_column": null,
            "grid_gap": null,
            "grid_row": null,
            "grid_template_areas": null,
            "grid_template_columns": null,
            "grid_template_rows": null,
            "height": null,
            "justify_content": null,
            "justify_items": null,
            "left": null,
            "margin": null,
            "max_height": null,
            "max_width": null,
            "min_height": null,
            "min_width": null,
            "object_fit": null,
            "object_position": null,
            "order": null,
            "overflow": null,
            "overflow_x": null,
            "overflow_y": null,
            "padding": null,
            "right": null,
            "top": null,
            "visibility": null,
            "width": null
          }
        },
        "d1cbfc78e25c4f1ebfc6be03fc719efa": {
          "model_module": "@jupyter-widgets/base",
          "model_name": "LayoutModel",
          "model_module_version": "1.2.0",
          "state": {
            "_model_module": "@jupyter-widgets/base",
            "_model_module_version": "1.2.0",
            "_model_name": "LayoutModel",
            "_view_count": null,
            "_view_module": "@jupyter-widgets/base",
            "_view_module_version": "1.2.0",
            "_view_name": "LayoutView",
            "align_content": null,
            "align_items": null,
            "align_self": null,
            "border": null,
            "bottom": null,
            "display": null,
            "flex": null,
            "flex_flow": null,
            "grid_area": null,
            "grid_auto_columns": null,
            "grid_auto_flow": null,
            "grid_auto_rows": null,
            "grid_column": null,
            "grid_gap": null,
            "grid_row": null,
            "grid_template_areas": null,
            "grid_template_columns": null,
            "grid_template_rows": null,
            "height": null,
            "justify_content": null,
            "justify_items": null,
            "left": null,
            "margin": null,
            "max_height": null,
            "max_width": null,
            "min_height": null,
            "min_width": null,
            "object_fit": null,
            "object_position": null,
            "order": null,
            "overflow": null,
            "overflow_x": null,
            "overflow_y": null,
            "padding": null,
            "right": null,
            "top": null,
            "visibility": null,
            "width": null
          }
        },
        "118ce6019a53492b9b2acb24239c1d6c": {
          "model_module": "@jupyter-widgets/controls",
          "model_name": "DescriptionStyleModel",
          "model_module_version": "1.5.0",
          "state": {
            "_model_module": "@jupyter-widgets/controls",
            "_model_module_version": "1.5.0",
            "_model_name": "DescriptionStyleModel",
            "_view_count": null,
            "_view_module": "@jupyter-widgets/base",
            "_view_module_version": "1.2.0",
            "_view_name": "StyleView",
            "description_width": ""
          }
        },
        "aa73d5da25684da4a1131074781bb7b8": {
          "model_module": "@jupyter-widgets/base",
          "model_name": "LayoutModel",
          "model_module_version": "1.2.0",
          "state": {
            "_model_module": "@jupyter-widgets/base",
            "_model_module_version": "1.2.0",
            "_model_name": "LayoutModel",
            "_view_count": null,
            "_view_module": "@jupyter-widgets/base",
            "_view_module_version": "1.2.0",
            "_view_name": "LayoutView",
            "align_content": null,
            "align_items": null,
            "align_self": null,
            "border": null,
            "bottom": null,
            "display": null,
            "flex": null,
            "flex_flow": null,
            "grid_area": null,
            "grid_auto_columns": null,
            "grid_auto_flow": null,
            "grid_auto_rows": null,
            "grid_column": null,
            "grid_gap": null,
            "grid_row": null,
            "grid_template_areas": null,
            "grid_template_columns": null,
            "grid_template_rows": null,
            "height": null,
            "justify_content": null,
            "justify_items": null,
            "left": null,
            "margin": null,
            "max_height": null,
            "max_width": null,
            "min_height": null,
            "min_width": null,
            "object_fit": null,
            "object_position": null,
            "order": null,
            "overflow": null,
            "overflow_x": null,
            "overflow_y": null,
            "padding": null,
            "right": null,
            "top": null,
            "visibility": null,
            "width": null
          }
        },
        "5430e44f183f45f0b7ddd9794d1f997b": {
          "model_module": "@jupyter-widgets/controls",
          "model_name": "ProgressStyleModel",
          "model_module_version": "1.5.0",
          "state": {
            "_model_module": "@jupyter-widgets/controls",
            "_model_module_version": "1.5.0",
            "_model_name": "ProgressStyleModel",
            "_view_count": null,
            "_view_module": "@jupyter-widgets/base",
            "_view_module_version": "1.2.0",
            "_view_name": "StyleView",
            "bar_color": null,
            "description_width": ""
          }
        },
        "0faa9381367e4b7e8f28fc653f4f6932": {
          "model_module": "@jupyter-widgets/base",
          "model_name": "LayoutModel",
          "model_module_version": "1.2.0",
          "state": {
            "_model_module": "@jupyter-widgets/base",
            "_model_module_version": "1.2.0",
            "_model_name": "LayoutModel",
            "_view_count": null,
            "_view_module": "@jupyter-widgets/base",
            "_view_module_version": "1.2.0",
            "_view_name": "LayoutView",
            "align_content": null,
            "align_items": null,
            "align_self": null,
            "border": null,
            "bottom": null,
            "display": null,
            "flex": null,
            "flex_flow": null,
            "grid_area": null,
            "grid_auto_columns": null,
            "grid_auto_flow": null,
            "grid_auto_rows": null,
            "grid_column": null,
            "grid_gap": null,
            "grid_row": null,
            "grid_template_areas": null,
            "grid_template_columns": null,
            "grid_template_rows": null,
            "height": null,
            "justify_content": null,
            "justify_items": null,
            "left": null,
            "margin": null,
            "max_height": null,
            "max_width": null,
            "min_height": null,
            "min_width": null,
            "object_fit": null,
            "object_position": null,
            "order": null,
            "overflow": null,
            "overflow_x": null,
            "overflow_y": null,
            "padding": null,
            "right": null,
            "top": null,
            "visibility": null,
            "width": null
          }
        },
        "c04d09f700024ca58bddc076bc22c294": {
          "model_module": "@jupyter-widgets/controls",
          "model_name": "DescriptionStyleModel",
          "model_module_version": "1.5.0",
          "state": {
            "_model_module": "@jupyter-widgets/controls",
            "_model_module_version": "1.5.0",
            "_model_name": "DescriptionStyleModel",
            "_view_count": null,
            "_view_module": "@jupyter-widgets/base",
            "_view_module_version": "1.2.0",
            "_view_name": "StyleView",
            "description_width": ""
          }
        }
      }
    }
  },
  "nbformat": 4,
  "nbformat_minor": 5
}